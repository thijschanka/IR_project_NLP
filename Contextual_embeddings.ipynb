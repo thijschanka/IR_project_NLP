{
 "cells": [
  {
   "cell_type": "code",
   "execution_count": 1,
   "metadata": {},
   "outputs": [
    {
     "name": "stdout",
     "output_type": "stream",
     "text": [
      "\u001b[31mERROR: pip's dependency resolver does not currently take into account all the packages that are installed. This behaviour is the source of the following dependency conflicts.\n",
      "sentence-transformers 2.0.0 requires transformers<5.0.0,>=4.6.0, but you have transformers 4.0.0 which is incompatible.\u001b[0m\n",
      "\u001b[33mWARNING: Running pip as the 'root' user can result in broken permissions and conflicting behaviour with the system package manager. It is recommended to use a virtual environment instead: https://pip.pypa.io/warnings/venv\u001b[0m\n",
      "fatal: destination path 'pygaggle' already exists and is not an empty directory.\n",
      "\u001b[31mERROR: pip's dependency resolver does not currently take into account all the packages that are installed. This behaviour is the source of the following dependency conflicts.\n",
      "pygaggle 0.0.3.1 requires pydantic==1.5, but you have pydantic 1.7.4 which is incompatible.\n",
      "pygaggle 0.0.3.1 requires pyserini==0.10.1.0, but you have pyserini 0.14.0 which is incompatible.\n",
      "pygaggle 0.0.3.1 requires sentencepiece==0.1.94, but you have sentencepiece 0.1.95 which is incompatible.\n",
      "pygaggle 0.0.3.1 requires spacy==2.2.4, but you have spacy 3.0.6 which is incompatible.\n",
      "pygaggle 0.0.3.1 requires tokenizers==0.9.4, but you have tokenizers 0.10.2 which is incompatible.\n",
      "pygaggle 0.0.3.1 requires tqdm==4.45.0, but you have tqdm 4.56.0 which is incompatible.\n",
      "pygaggle 0.0.3.1 requires transformers==4.0.0, but you have transformers 4.6.1 which is incompatible.\u001b[0m\n",
      "\u001b[33mWARNING: Running pip as the 'root' user can result in broken permissions and conflicting behaviour with the system package manager. It is recommended to use a virtual environment instead: https://pip.pypa.io/warnings/venv\u001b[0m\n",
      "\u001b[33mWARNING: Running pip as the 'root' user can result in broken permissions and conflicting behaviour with the system package manager. It is recommended to use a virtual environment instead: https://pip.pypa.io/warnings/venv\u001b[0m\n",
      "\u001b[31mERROR: pip's dependency resolver does not currently take into account all the packages that are installed. This behaviour is the source of the following dependency conflicts.\n",
      "pygaggle 0.0.3.1 requires pydantic==1.5, but you have pydantic 1.7.4 which is incompatible.\n",
      "pygaggle 0.0.3.1 requires pyserini==0.10.1.0, but you have pyserini 0.14.0 which is incompatible.\n",
      "pygaggle 0.0.3.1 requires sentencepiece==0.1.94, but you have sentencepiece 0.1.95 which is incompatible.\n",
      "pygaggle 0.0.3.1 requires spacy==2.2.4, but you have spacy 2.3.0 which is incompatible.\n",
      "pygaggle 0.0.3.1 requires tokenizers==0.9.4, but you have tokenizers 0.10.2 which is incompatible.\n",
      "pygaggle 0.0.3.1 requires tqdm==4.45.0, but you have tqdm 4.56.0 which is incompatible.\n",
      "pygaggle 0.0.3.1 requires transformers==4.0.0, but you have transformers 4.6.1 which is incompatible.\u001b[0m\n",
      "\u001b[33mWARNING: Running pip as the 'root' user can result in broken permissions and conflicting behaviour with the system package manager. It is recommended to use a virtual environment instead: https://pip.pypa.io/warnings/venv\u001b[0m\n",
      "\u001b[31mERROR: pip's dependency resolver does not currently take into account all the packages that are installed. This behaviour is the source of the following dependency conflicts.\n",
      "torchvision 0.11.2 requires torch==1.10.1, but you have torch 1.10.0 which is incompatible.\u001b[0m\n",
      "\u001b[33mWARNING: Running pip as the 'root' user can result in broken permissions and conflicting behaviour with the system package manager. It is recommended to use a virtual environment instead: https://pip.pypa.io/warnings/venv\u001b[0m\n"
     ]
    }
   ],
   "source": [
    "!pip install pygaggle --quiet\n",
    "!git clone --recursive https://github.com/castorini/pygaggle.git --quiet\n",
    "!pip install -r pygaggle/requirements.txt --quiet\n",
    "!pip install jsonlines --quiet\n",
    "!pip install spacy==2.3.0 --quiet\n",
    "!pip install torch==1.10.0 --quiet"
   ]
  },
  {
   "cell_type": "code",
   "execution_count": 2,
   "metadata": {},
   "outputs": [
    {
     "name": "stdout",
     "output_type": "stream",
     "text": [
      "cpu\n"
     ]
    },
    {
     "name": "stderr",
     "output_type": "stream",
     "text": [
      "2021-12-22 08:50:23.593530: W tensorflow/stream_executor/platform/default/dso_loader.cc:64] Could not load dynamic library 'libcudart.so.11.0'; dlerror: libcudart.so.11.0: cannot open shared object file: No such file or directory\n",
      "2021-12-22 08:50:23.593570: I tensorflow/stream_executor/cuda/cudart_stub.cc:29] Ignore above cudart dlerror if you do not have a GPU set up on your machine.\n"
     ]
    }
   ],
   "source": [
    "# IMPORTS\n",
    "#!pip install pygaggle\n",
    "#!pip install -q torch==1.4.0 -f https://download.pytorch.org/whl/cu101/torch_stable.html\n",
    "#!pip install transformers==4.11.3.\n",
    "\n",
    "import torch\n",
    "\n",
    "if torch.cuda.is_available(): \n",
    "    dev = \"cuda:0\"\n",
    "    print(dev, torch.cuda.get_device_name(0))\n",
    "    device = torch.device(dev)\n",
    "else: \n",
    "    dev = \"cpu\"\n",
    "    print(dev) \n",
    "\n",
    "from pyserini.search import SimpleSearcher\n",
    "from pygaggle.rerank.base import hits_to_texts\n",
    "from pygaggle.rerank.base import Query, Text\n",
    "from pygaggle.rerank.transformer import MonoT5\n",
    "from transformers import T5ForConditionalGeneration\n",
    "import json\n",
    "from pyserini.search import SimpleSearcher\n",
    "import spacy\n",
    "from sklearn.metrics import (accuracy_score, f1_score, classification_report)\n",
    "import jsonlines\n",
    "import os\n",
    "from statistics import mean\n",
    "import statistics\n",
    "import math\n",
    "from tqdm.notebook import tqdm\n",
    "import numpy as np\n",
    "\n",
    "import pandas as pd\n",
    "\n",
    "\n",
    "#import pygaggle\n",
    "#from pygaggle.rerank.base import Query, Text, hits_to_texts\n",
    "#from pygaggle.rerank.transformer import MonoT5\n",
    "\n",
    "#from pyserini.search import SimpleSearcher\n",
    "#import pandas as pd"
   ]
  },
  {
   "cell_type": "markdown",
   "metadata": {},
   "source": [
    "Load the data"
   ]
  },
  {
   "cell_type": "code",
   "execution_count": 3,
   "metadata": {},
   "outputs": [],
   "source": [
    "def load_data(cleaned=True, accuracy=True):\n",
    "    df = pd.read_json(\"./output/json_collection/complete_collection.json\", orient='records', encoding='utf8')\n",
    "        \n",
    "    if cleaned:\n",
    "        if accuracy:\n",
    "            nlp = en_core_web_trf.load(disable=[\"parser\", \"ner\"])\n",
    "        else:\n",
    "            nlp = en_core_web_sm.load(disable=[\"parser\", \"ner\"])\n",
    "        nlp.max_length = 2000000\n",
    "        \n",
    "        df['cleaned'] = df[\"contents\"].apply(lambda x: prune_tokens(x, nlp))\n",
    "        #df[\"contents\"] = df[\"cleaned\"].progress_apply(lambda x:re.split('\\n',x))\n",
    "    df[\"text_sent\"] = df[\"contents\"]\n",
    "    return df\n",
    "\n",
    "def load_queries():\n",
    "    queries = dict()\n",
    "    with open(\"./output/queries.txt\", \"r\") as f:\n",
    "        for line in f:\n",
    "            cols = line.split(\"\\t\")\n",
    "            queries[cols[0].strip()] = cols[1].strip()\n",
    "    return queries"
   ]
  },
  {
   "cell_type": "markdown",
   "metadata": {},
   "source": [
    "Define the reranker"
   ]
  },
  {
   "cell_type": "code",
   "execution_count": null,
   "metadata": {},
   "outputs": [
    {
     "name": "stdout",
     "output_type": "stream",
     "text": [
      "301\n"
     ]
    },
    {
     "name": "stderr",
     "output_type": "stream",
     "text": [
      "/root/anaconda3/envs/IR4/lib/python3.7/site-packages/transformers/models/t5/tokenization_t5.py:173: UserWarning: This sequence already has </s>. In future versions this behavior may lead to duplicated eos tokens being added.\n",
      "  f\"This sequence already has {self.eos_token}. In future versions this behavior may lead to duplicated eos tokens being added.\"\n"
     ]
    }
   ],
   "source": [
    "def reranker(queries, BM25=True, n_hits=10000, run='context_emb', it=\"Q0\", index_path = './output/indexes/lucene_index_json'):\n",
    "    # Define reranker model\n",
    "    reranker =  MonoT5()\n",
    "    \n",
    "    # Define pyserini index\n",
    "    #searcher = SimpleSearcher.from_prebuilt_index(index_path)\n",
    "    searcher = SimpleSearcher(index_path)\n",
    "    \n",
    "    results = []\n",
    "    for q_id in queries:\n",
    "        print(q_id)\n",
    "        query = Query(queries[q_id])\n",
    "        hits = searcher.search(query.text, n_hits)\n",
    "        \n",
    "        texts = hits_to_texts(hits)\n",
    "        #for i in range(0, 10):\n",
    "        #    print(f'{i+1:2} {texts[i].metadata[\"docid\"]:15} {texts[i].score:.5f} {texts[i].text}')\n",
    "        #texts = [ Text(p[1], {'docid': p[0]}, 0) for p in hits]\n",
    "        reranked = reranker.rerank(query, texts)\n",
    "        \n",
    "        for i in range(0, min(len(reranked), n_hits)):\n",
    "            d = reranked[i].metadata[\"docid\"]\n",
    "            score = reranked[i].score\n",
    "            results.append([str(q_id), str(it), str(d), str(i+1), str(score), str(run)])\n",
    "            \n",
    "            \n",
    "        #for i in range(0, 10):\n",
    "        #    print(f'{i+1:2} {reranked[i].metadata[\"docid\"]:15} {reranked[i].score:.5f} {reranked[i].text}')\n",
    "    check = set()\n",
    "    for res in results:\n",
    "        if ((res[0], res[2])) in check:\n",
    "            raise Exception(\"Error: Duplicate query-doc is found\", res[0], res[2])\n",
    "        check.add((res[0], res[2]))\n",
    "\n",
    "    output_str = \"\\n\".join([' '.join(i) for i in results])\n",
    "    open(\"./output/results/{}.run\".format(run), \"w\").write(output_str)            \n",
    "    \n",
    "\n",
    "\n",
    "reranker(load_queries(), run=\"context_emb_content_index_10000\")"
   ]
  },
  {
   "cell_type": "code",
   "execution_count": null,
   "metadata": {},
   "outputs": [],
   "source": []
  }
 ],
 "metadata": {
  "kernelspec": {
   "display_name": "Python 3 (ipykernel)",
   "language": "python",
   "name": "python3"
  },
  "language_info": {
   "codemirror_mode": {
    "name": "ipython",
    "version": 3
   },
   "file_extension": ".py",
   "mimetype": "text/x-python",
   "name": "python",
   "nbconvert_exporter": "python",
   "pygments_lexer": "ipython3",
   "version": "3.7.11"
  }
 },
 "nbformat": 4,
 "nbformat_minor": 4
}
