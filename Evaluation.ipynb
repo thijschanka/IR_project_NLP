{
 "cells": [
  {
   "cell_type": "markdown",
   "id": "76161f68",
   "metadata": {},
   "source": [
    "Imports:"
   ]
  },
  {
   "cell_type": "code",
   "execution_count": 1,
   "id": "f404d27d",
   "metadata": {},
   "outputs": [],
   "source": [
    "import json\n",
    "import math\n",
    "import numpy as np\n",
    "import os"
   ]
  },
  {
   "cell_type": "markdown",
   "id": "304a4a2f",
   "metadata": {},
   "source": [
    "Parse the documents:"
   ]
  },
  {
   "cell_type": "code",
   "execution_count": 2,
   "id": "774d0de5",
   "metadata": {},
   "outputs": [],
   "source": [
    "def parse_qrel(doc):\n",
    "    rels = {}\n",
    "    with open(doc, 'r') as f:\n",
    "        for line in f.readlines():\n",
    "            query, iteration, document, relevancy = line.split()\n",
    "            if int(query) not in rels:\n",
    "                rels[int(query)] = {document: int(relevancy)}\n",
    "            else:\n",
    "                rels[int(query)][document] = int(relevancy)\n",
    "    return rels\n",
    "\n",
    "def parse_results(doc, rels):\n",
    "    with open(doc, 'r') as f:\n",
    "        current_query, _, document, rank, _, _ = next(f).split()\n",
    "        rank_label_list = [(int(rank), rels[int(current_query)][document])]\n",
    "        sorted_labels = []\n",
    "        for line in f:\n",
    "            query, _, document, rank, _, _ = line.split()\n",
    "            if int(query) != int(current_query):\n",
    "                sorted_labels = [x[1] for x in sorted(rank_label_list)]\n",
    "                yield np.array(sorted_labels, dtype=np.int32)\n",
    "                \n",
    "                current_query = query\n",
    "                rank_label_list = []\n",
    "                \n",
    "            rank_label_list.append((int(rank), rels[int(current_query)][document]))\n",
    "    sorted_labels = [x[1] for x in sorted(rank_label_list)]\n",
    "    return np.array(sorted_labels, dtype=np.int32)"
   ]
  },
  {
   "cell_type": "markdown",
   "id": "68ec7113",
   "metadata": {},
   "source": [
    "Evaluation Metrics:"
   ]
  },
  {
   "cell_type": "code",
   "execution_count": 3,
   "id": "d578ddf7",
   "metadata": {},
   "outputs": [],
   "source": [
    "def evaluate(qrl, k_sizes=[1, 5, 10, 25]):\n",
    "    qrl = [i for i in qrl]\n",
    "    results = {}\n",
    "    for k in k_sizes:\n",
    "        results['p'+str(k)] = np.mean([precision(i, k) for i in qrl])\n",
    "        results['r'+str(k)] = np.mean([recall(i, k) for i in qrl])\n",
    "        results['f'+str(k)] = np.mean([F_score(i, k) for i in qrl])\n",
    "        results['d'+str(k)] = np.mean([DCG(i, k) for i in qrl])\n",
    "        results['n'+str(k)] = np.mean([NDCG(i, k) for i in qrl])\n",
    "    results['map'] = np.mean([MAP(i) for i in qrl])\n",
    "    results['mrr'] = np.mean([MRR(i) for i in qrl])\n",
    "\n",
    "    return results\n",
    "\n",
    "def precision(query_relevancy_labels, k):\n",
    "    score = 0\n",
    "    for i, relevance in enumerate(query_relevancy_labels, 1):\n",
    "        if i <= k: score += relevance\n",
    "    if i<k: score += 0*(k-i)\n",
    "    return score/k\n",
    "\n",
    "def recall(query_relevancy_labels, k):\n",
    "    score = 0\n",
    "    doc = 0\n",
    "    for i, relevance in enumerate(query_relevancy_labels, 1):\n",
    "        if i <= k: score += relevance\n",
    "        doc += relevance\n",
    "    \n",
    "    if doc == 0: return 0\n",
    "    if i<k: score += 0*(k-i)\n",
    "    \n",
    "    return score/doc\n",
    "\n",
    "def F_score(query_relevancy_labels, k):\n",
    "    p = precision(query_relevancy_labels, k)\n",
    "    r = recall(query_relevancy_labels, k)\n",
    "    \n",
    "    if p == 0 and r == 0: return 0\n",
    "    return (2*p*r)/(p+r)\n",
    "\n",
    "def DCG(query_relevancy_labels, k):\n",
    "    # Use log with base 2\n",
    "    score = 0\n",
    "    for i, relevance in enumerate(query_relevancy_labels, 1):\n",
    "        if i <= k: score += ((2**relevance)-1)/(np.log2(1+i))\n",
    "    return score\n",
    "\n",
    "def NDCG(query_relevancy_labels, k):\n",
    "    score = DCG(query_relevancy_labels, k)\n",
    "    \n",
    "    max_qrl = [i for i in query_relevancy_labels if i!=0]\n",
    "    max_score = DCG(max_qrl, k)\n",
    "    \n",
    "    if max_score == 0: return 0\n",
    "    return score/max_score\n",
    "\n",
    "def MAP(query_relevancy_labels):\n",
    "    score = 0\n",
    "    doc = 0\n",
    "    for i, relevance in enumerate(query_relevancy_labels, 1):\n",
    "        score += relevance*precision(query_relevancy_labels, i)\n",
    "        doc += relevance\n",
    "    if doc == 0: return 0\n",
    "    return score/doc\n",
    "\n",
    "def MRR(query_relevancy_labels):\n",
    "    score = 0\n",
    "    for i, relevance in enumerate(query_relevancy_labels, 1):\n",
    "        if relevance == 1 and (i/relevance < score or score == 0):\n",
    "            score = i/relevance\n",
    "    if score == 0: return 0\n",
    "    return 1/score"
   ]
  },
  {
   "cell_type": "code",
   "execution_count": 5,
   "id": "90b0bf31",
   "metadata": {},
   "outputs": [
    {
     "ename": "KeyError",
     "evalue": "'FBIS4-44962'",
     "output_type": "error",
     "traceback": [
      "\u001b[0;31m---------------------------------------------------------------------------\u001b[0m",
      "\u001b[0;31mKeyError\u001b[0m                                  Traceback (most recent call last)",
      "\u001b[0;32m/tmp/ipykernel_568/1200639786.py\u001b[0m in \u001b[0;36m<module>\u001b[0;34m\u001b[0m\n\u001b[1;32m      8\u001b[0m         \u001b[0;32mreturn\u001b[0m \u001b[0mmetrics\u001b[0m\u001b[0;34m\u001b[0m\u001b[0;34m\u001b[0m\u001b[0m\n\u001b[1;32m      9\u001b[0m \u001b[0;34m\u001b[0m\u001b[0m\n\u001b[0;32m---> 10\u001b[0;31m \u001b[0mevaluate_all_results\u001b[0m\u001b[0;34m(\u001b[0m\u001b[0;34m)\u001b[0m\u001b[0;34m\u001b[0m\u001b[0;34m\u001b[0m\u001b[0m\n\u001b[0m",
      "\u001b[0;32m/tmp/ipykernel_568/1200639786.py\u001b[0m in \u001b[0;36mevaluate_all_results\u001b[0;34m(res_dir, qrel_doc, k_sizes)\u001b[0m\n\u001b[1;32m      4\u001b[0m     \u001b[0;32mfor\u001b[0m \u001b[0mdoc\u001b[0m \u001b[0;32min\u001b[0m \u001b[0mos\u001b[0m\u001b[0;34m.\u001b[0m\u001b[0mscandir\u001b[0m\u001b[0;34m(\u001b[0m\u001b[0mres_dir\u001b[0m\u001b[0;34m)\u001b[0m\u001b[0;34m:\u001b[0m\u001b[0;34m\u001b[0m\u001b[0;34m\u001b[0m\u001b[0m\n\u001b[1;32m      5\u001b[0m         \u001b[0mres_doc\u001b[0m \u001b[0;34m=\u001b[0m \u001b[0mos\u001b[0m\u001b[0;34m.\u001b[0m\u001b[0mpath\u001b[0m\u001b[0;34m.\u001b[0m\u001b[0mjoin\u001b[0m\u001b[0;34m(\u001b[0m\u001b[0mres_dir\u001b[0m\u001b[0;34m,\u001b[0m \u001b[0mdoc\u001b[0m\u001b[0;34m.\u001b[0m\u001b[0mname\u001b[0m\u001b[0;34m)\u001b[0m\u001b[0;34m\u001b[0m\u001b[0;34m\u001b[0m\u001b[0m\n\u001b[0;32m----> 6\u001b[0;31m         \u001b[0msorted_labels\u001b[0m \u001b[0;34m=\u001b[0m \u001b[0;34m[\u001b[0m\u001b[0mi\u001b[0m \u001b[0;32mfor\u001b[0m \u001b[0mi\u001b[0m \u001b[0;32min\u001b[0m \u001b[0mparse_results\u001b[0m\u001b[0;34m(\u001b[0m\u001b[0mres_doc\u001b[0m\u001b[0;34m,\u001b[0m \u001b[0mrels\u001b[0m\u001b[0;34m)\u001b[0m\u001b[0;34m]\u001b[0m\u001b[0;34m\u001b[0m\u001b[0;34m\u001b[0m\u001b[0m\n\u001b[0m\u001b[1;32m      7\u001b[0m         \u001b[0mmetrics\u001b[0m \u001b[0;34m=\u001b[0m  \u001b[0mevaluate\u001b[0m\u001b[0;34m(\u001b[0m\u001b[0msorted_labels\u001b[0m\u001b[0;34m,\u001b[0m \u001b[0mk_sizes\u001b[0m\u001b[0;34m)\u001b[0m\u001b[0;34m\u001b[0m\u001b[0;34m\u001b[0m\u001b[0m\n\u001b[1;32m      8\u001b[0m         \u001b[0;32mreturn\u001b[0m \u001b[0mmetrics\u001b[0m\u001b[0;34m\u001b[0m\u001b[0;34m\u001b[0m\u001b[0m\n",
      "\u001b[0;32m/tmp/ipykernel_568/1200639786.py\u001b[0m in \u001b[0;36m<listcomp>\u001b[0;34m(.0)\u001b[0m\n\u001b[1;32m      4\u001b[0m     \u001b[0;32mfor\u001b[0m \u001b[0mdoc\u001b[0m \u001b[0;32min\u001b[0m \u001b[0mos\u001b[0m\u001b[0;34m.\u001b[0m\u001b[0mscandir\u001b[0m\u001b[0;34m(\u001b[0m\u001b[0mres_dir\u001b[0m\u001b[0;34m)\u001b[0m\u001b[0;34m:\u001b[0m\u001b[0;34m\u001b[0m\u001b[0;34m\u001b[0m\u001b[0m\n\u001b[1;32m      5\u001b[0m         \u001b[0mres_doc\u001b[0m \u001b[0;34m=\u001b[0m \u001b[0mos\u001b[0m\u001b[0;34m.\u001b[0m\u001b[0mpath\u001b[0m\u001b[0;34m.\u001b[0m\u001b[0mjoin\u001b[0m\u001b[0;34m(\u001b[0m\u001b[0mres_dir\u001b[0m\u001b[0;34m,\u001b[0m \u001b[0mdoc\u001b[0m\u001b[0;34m.\u001b[0m\u001b[0mname\u001b[0m\u001b[0;34m)\u001b[0m\u001b[0;34m\u001b[0m\u001b[0;34m\u001b[0m\u001b[0m\n\u001b[0;32m----> 6\u001b[0;31m         \u001b[0msorted_labels\u001b[0m \u001b[0;34m=\u001b[0m \u001b[0;34m[\u001b[0m\u001b[0mi\u001b[0m \u001b[0;32mfor\u001b[0m \u001b[0mi\u001b[0m \u001b[0;32min\u001b[0m \u001b[0mparse_results\u001b[0m\u001b[0;34m(\u001b[0m\u001b[0mres_doc\u001b[0m\u001b[0;34m,\u001b[0m \u001b[0mrels\u001b[0m\u001b[0;34m)\u001b[0m\u001b[0;34m]\u001b[0m\u001b[0;34m\u001b[0m\u001b[0;34m\u001b[0m\u001b[0m\n\u001b[0m\u001b[1;32m      7\u001b[0m         \u001b[0mmetrics\u001b[0m \u001b[0;34m=\u001b[0m  \u001b[0mevaluate\u001b[0m\u001b[0;34m(\u001b[0m\u001b[0msorted_labels\u001b[0m\u001b[0;34m,\u001b[0m \u001b[0mk_sizes\u001b[0m\u001b[0;34m)\u001b[0m\u001b[0;34m\u001b[0m\u001b[0;34m\u001b[0m\u001b[0m\n\u001b[1;32m      8\u001b[0m         \u001b[0;32mreturn\u001b[0m \u001b[0mmetrics\u001b[0m\u001b[0;34m\u001b[0m\u001b[0;34m\u001b[0m\u001b[0m\n",
      "\u001b[0;32m/tmp/ipykernel_568/2943556248.py\u001b[0m in \u001b[0;36mparse_results\u001b[0;34m(doc, rels)\u001b[0m\n\u001b[1;32m     24\u001b[0m                 \u001b[0mrank_label_list\u001b[0m \u001b[0;34m=\u001b[0m \u001b[0;34m[\u001b[0m\u001b[0;34m]\u001b[0m\u001b[0;34m\u001b[0m\u001b[0;34m\u001b[0m\u001b[0m\n\u001b[1;32m     25\u001b[0m \u001b[0;34m\u001b[0m\u001b[0m\n\u001b[0;32m---> 26\u001b[0;31m             \u001b[0mrank_label_list\u001b[0m\u001b[0;34m.\u001b[0m\u001b[0mappend\u001b[0m\u001b[0;34m(\u001b[0m\u001b[0;34m(\u001b[0m\u001b[0mint\u001b[0m\u001b[0;34m(\u001b[0m\u001b[0mrank\u001b[0m\u001b[0;34m)\u001b[0m\u001b[0;34m,\u001b[0m \u001b[0mrels\u001b[0m\u001b[0;34m[\u001b[0m\u001b[0mint\u001b[0m\u001b[0;34m(\u001b[0m\u001b[0mcurrent_query\u001b[0m\u001b[0;34m)\u001b[0m\u001b[0;34m]\u001b[0m\u001b[0;34m[\u001b[0m\u001b[0mdocument\u001b[0m\u001b[0;34m]\u001b[0m\u001b[0;34m)\u001b[0m\u001b[0;34m)\u001b[0m\u001b[0;34m\u001b[0m\u001b[0;34m\u001b[0m\u001b[0m\n\u001b[0m\u001b[1;32m     27\u001b[0m     \u001b[0msorted_labels\u001b[0m \u001b[0;34m=\u001b[0m \u001b[0;34m[\u001b[0m\u001b[0mx\u001b[0m\u001b[0;34m[\u001b[0m\u001b[0;36m1\u001b[0m\u001b[0;34m]\u001b[0m \u001b[0;32mfor\u001b[0m \u001b[0mx\u001b[0m \u001b[0;32min\u001b[0m \u001b[0msorted\u001b[0m\u001b[0;34m(\u001b[0m\u001b[0mrank_label_list\u001b[0m\u001b[0;34m)\u001b[0m\u001b[0;34m]\u001b[0m\u001b[0;34m\u001b[0m\u001b[0;34m\u001b[0m\u001b[0m\n\u001b[1;32m     28\u001b[0m     \u001b[0;32mreturn\u001b[0m \u001b[0mnp\u001b[0m\u001b[0;34m.\u001b[0m\u001b[0marray\u001b[0m\u001b[0;34m(\u001b[0m\u001b[0msorted_labels\u001b[0m\u001b[0;34m,\u001b[0m \u001b[0mdtype\u001b[0m\u001b[0;34m=\u001b[0m\u001b[0mnp\u001b[0m\u001b[0;34m.\u001b[0m\u001b[0mint32\u001b[0m\u001b[0;34m)\u001b[0m\u001b[0;34m\u001b[0m\u001b[0;34m\u001b[0m\u001b[0m\n",
      "\u001b[0;31mKeyError\u001b[0m: 'FBIS4-44962'"
     ]
    }
   ],
   "source": [
    "def evaluate_all_results(res_dir='./output/results', qrel_doc='../test_documents/qrels.robust2004.txt', k_sizes=[1, 5, 10, 25]):\n",
    "    rels = parse_qrel(qrel_doc)\n",
    "    \n",
    "    for doc in os.scandir(res_dir):\n",
    "        res_doc = os.path.join(res_dir, doc.name)\n",
    "        sorted_labels = [i for i in parse_results(res_doc, rels)]\n",
    "        metrics =  evaluate(sorted_labels, k_sizes)\n",
    "        return metrics\n",
    "    \n",
    "evaluate_all_results()"
   ]
  },
  {
   "cell_type": "code",
   "execution_count": null,
   "id": "8391df21",
   "metadata": {},
   "outputs": [],
   "source": []
  }
 ],
 "metadata": {
  "kernelspec": {
   "display_name": "Python 3 (ipykernel)",
   "language": "python",
   "name": "python3"
  },
  "language_info": {
   "codemirror_mode": {
    "name": "ipython",
    "version": 3
   },
   "file_extension": ".py",
   "mimetype": "text/x-python",
   "name": "python",
   "nbconvert_exporter": "python",
   "pygments_lexer": "ipython3",
   "version": "3.8.10"
  }
 },
 "nbformat": 4,
 "nbformat_minor": 5
}
